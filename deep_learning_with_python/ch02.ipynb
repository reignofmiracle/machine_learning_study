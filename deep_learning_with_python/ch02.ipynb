{
 "cells": [
  {
   "cell_type": "code",
   "execution_count": 4,
   "metadata": {},
   "outputs": [
    {
     "data": {
      "text/plain": [
       "'2.2.4-tf'"
      ]
     },
     "execution_count": 4,
     "metadata": {},
     "output_type": "execute_result"
    }
   ],
   "source": [
    "import tensorflow.keras as keras\n",
    "keras.__version__"
   ]
  },
  {
   "cell_type": "code",
   "execution_count": 5,
   "metadata": {},
   "outputs": [
    {
     "name": "stderr",
     "output_type": "stream",
     "text": [
      "Using TensorFlow backend.\n"
     ]
    }
   ],
   "source": [
    "from keras.datasets import mnist\n",
    "(train_images, train_labels), (test_images, test_labels) = mnist.load_data()"
   ]
  },
  {
   "cell_type": "code",
   "execution_count": 6,
   "metadata": {},
   "outputs": [
    {
     "data": {
      "text/plain": [
       "(60000, 28, 28)"
      ]
     },
     "execution_count": 6,
     "metadata": {},
     "output_type": "execute_result"
    }
   ],
   "source": [
    "train_images.shape"
   ]
  },
  {
   "cell_type": "code",
   "execution_count": 7,
   "metadata": {},
   "outputs": [
    {
     "data": {
      "text/plain": [
       "60000"
      ]
     },
     "execution_count": 7,
     "metadata": {},
     "output_type": "execute_result"
    }
   ],
   "source": [
    "len(train_labels)"
   ]
  },
  {
   "cell_type": "code",
   "execution_count": 8,
   "metadata": {},
   "outputs": [
    {
     "data": {
      "text/plain": [
       "(10000, 28, 28)"
      ]
     },
     "execution_count": 8,
     "metadata": {},
     "output_type": "execute_result"
    }
   ],
   "source": [
    "test_images.shape"
   ]
  },
  {
   "cell_type": "code",
   "execution_count": 9,
   "metadata": {},
   "outputs": [
    {
     "data": {
      "text/plain": [
       "array([7, 2, 1, ..., 4, 5, 6], dtype=uint8)"
      ]
     },
     "execution_count": 9,
     "metadata": {},
     "output_type": "execute_result"
    }
   ],
   "source": [
    "test_labels"
   ]
  },
  {
   "cell_type": "code",
   "execution_count": 10,
   "metadata": {},
   "outputs": [],
   "source": [
    "import matplotlib.pyplot as plt"
   ]
  },
  {
   "cell_type": "code",
   "execution_count": 11,
   "metadata": {},
   "outputs": [
    {
     "data": {
      "image/png": "[encoded data removed]",
      "text/plain": [
       "<Figure size 432x288 with 1 Axes>"
      ]
     },
     "metadata": {
      "needs_background": "light"
     },
     "output_type": "display_data"
    }
   ],
   "source": [
    "digit = train_images[4]\n",
    "plt.imshow(digit, cmap=plt.cm.binary)\n",
    "plt.show()"
   ]
  },
  {
   "cell_type": "markdown",
   "metadata": {},
   "source": [
    "train_images 와 train_labels 를 분리하여 준비했으나 사실 하나의 벡터에서 하나의 요소가 라벨 나머지가 데이터라고 생각할 수도 있다. \n",
    "핵심은 훈련 데이터로 네트워크를 학습시키고 테스트 데이터로 네트워크를 테스트하는 것이다. "
   ]
  },
  {
   "cell_type": "code",
   "execution_count": 12,
   "metadata": {},
   "outputs": [
    {
     "name": "stdout",
     "output_type": "stream",
     "text": [
      "<class 'tuple'>\n",
      "(28, 28)\n"
     ]
    }
   ],
   "source": [
    "from keras import models\n",
    "from keras import layers\n",
    "\n",
    "print(type(train_images.shape))\n",
    "print(train_images.shape[1:])\n",
    "\n",
    "input_shape = train_images.shape[1:]\n",
    "\n",
    "network = models.Sequential()\n",
    "network.add(layers.Dense(512, activation='relu', input_shape=(28 * 28,)))\n",
    "network.add(layers.Dense(10, activation='softmax'))"
   ]
  },
  {
   "cell_type": "markdown",
   "metadata": {},
   "source": [
    "소프트멕스는 전체의 합이 1이 되도록 하는 확률 값을 반환하는 계층이다."
   ]
  },
  {
   "cell_type": "markdown",
   "metadata": {},
   "source": [
    "- 손실함수 : 훈련 데이터에서 신경망의 성능을 측정하는 방법. 네트워크가 올바른 방향으로 학습될 수 있도록 한다.\n",
    "- 옵티마이저 : 입력된 데이터와 손실 함수를 기반으로 네트워크를 업데이트 하는 메커니즘.\n",
    "- 훈련과 테스트 과정에서의 모니터링 지표 : 정확도"
   ]
  },
  {
   "cell_type": "code",
   "execution_count": 13,
   "metadata": {},
   "outputs": [],
   "source": [
    "network.compile(optimizer='rmsprop',\n",
    "                loss='categorical_crossentropy',\n",
    "                metrics=['accuracy'])"
   ]
  },
  {
   "cell_type": "code",
   "execution_count": 14,
   "metadata": {},
   "outputs": [],
   "source": [
    "train_images2 = train_images.reshape((60000, 28 * 28))\n",
    "train_images2 = train_images2.astype('float32') / 255\n",
    "\n",
    "test_images2 = test_images.reshape((10000, 28 * 28))\n",
    "test_images2 = test_images2.astype('float32') / 255"
   ]
  },
  {
   "cell_type": "code",
   "execution_count": 15,
   "metadata": {},
   "outputs": [],
   "source": [
    "from keras.utils import to_categorical\n",
    "\n",
    "train_labels = to_categorical(train_labels)\n",
    "test_labels = to_categorical(test_labels)"
   ]
  },
  {
   "cell_type": "code",
   "execution_count": 16,
   "metadata": {},
   "outputs": [
    {
     "name": "stdout",
     "output_type": "stream",
     "text": [
      "Epoch 1/5\n",
      "60000/60000 [==============================] - 2s 26us/step - loss: 0.2577 - accuracy: 0.9259\n",
      "Epoch 2/5\n",
      "60000/60000 [==============================] - 1s 20us/step - loss: 0.1033 - accuracy: 0.9695\n",
      "Epoch 3/5\n",
      "60000/60000 [==============================] - 1s 21us/step - loss: 0.0674 - accuracy: 0.9801\n",
      "Epoch 4/5\n",
      "60000/60000 [==============================] - 1s 21us/step - loss: 0.0487 - accuracy: 0.9849\n",
      "Epoch 5/5\n",
      "60000/60000 [==============================] - 1s 21us/step - loss: 0.0375 - accuracy: 0.9888\n"
     ]
    },
    {
     "data": {
      "text/plain": [
       "<keras.callbacks.callbacks.History at 0x1df79e29908>"
      ]
     },
     "execution_count": 16,
     "metadata": {},
     "output_type": "execute_result"
    }
   ],
   "source": [
    "network.fit(train_images2, train_labels, epochs=5, batch_size=128)"
   ]
  },
  {
   "cell_type": "code",
   "execution_count": 17,
   "metadata": {},
   "outputs": [
    {
     "data": {
      "image/png": "[encoded data removed]",
      "text/plain": [
       "<Figure size 432x288 with 1 Axes>"
      ]
     },
     "metadata": {
      "needs_background": "light"
     },
     "output_type": "display_data"
    },
    {
     "name": "stdout",
     "output_type": "stream",
     "text": [
      "(10000, 10)\n",
      "[7.7255864e-09 8.0278791e-11 1.9245856e-06 3.5871158e-06 3.3807106e-12\n",
      " 3.7663712e-09 6.5859590e-14 9.9999440e-01 1.5112237e-08 7.1655023e-08]\n",
      "예상 번호 :  7\n",
      "실제 번호 :  7\n"
     ]
    }
   ],
   "source": [
    "import numpy as np\n",
    "\n",
    "digit = test_images[0]\n",
    "plt.imshow(digit, cmap=plt.cm.binary)\n",
    "plt.show()\n",
    "\n",
    "predictions = network.predict(test_images2)\n",
    "print(predictions.shape)\n",
    "print(predictions[0])\n",
    "print(\"예상 번호 : \", np.argmax(predictions[0]))\n",
    "print(\"실제 번호 : \", np.argmax(test_labels[0]))"
   ]
  },
  {
   "cell_type": "code",
   "execution_count": 18,
   "metadata": {},
   "outputs": [
    {
     "name": "stdout",
     "output_type": "stream",
     "text": [
      "10000/10000 [==============================] - 1s 51us/step\n"
     ]
    }
   ],
   "source": [
    "test_loss, test_acc = network.evaluate(test_images2, test_labels)"
   ]
  },
  {
   "cell_type": "code",
   "execution_count": 19,
   "metadata": {},
   "outputs": [
    {
     "name": "stdout",
     "output_type": "stream",
     "text": [
      "test_acc: 0.9800999760627747\n"
     ]
    }
   ],
   "source": [
    "print('test_acc:', test_acc)"
   ]
  },
  {
   "cell_type": "markdown",
   "metadata": {},
   "source": [
    "- data distillation : 데이터 증류, 뉴럴 네트워크의 각각의 계층은 입력에서 특징을 추출하여 다음 계층으로 전달한다. \n",
    "따라서 누적된 계층은 데이터의 엑기스를 뽑아내는 형태로 바라볼 수 있고 이를 데이터 증류라고 표현할 수 있다. "
   ]
  },
  {
   "cell_type": "markdown",
   "metadata": {},
   "source": [
    "Scalars (0D tensors)"
   ]
  },
  {
   "cell_type": "code",
   "execution_count": 20,
   "metadata": {},
   "outputs": [
    {
     "name": "stdout",
     "output_type": "stream",
     "text": [
      "12\n",
      "0\n"
     ]
    }
   ],
   "source": [
    "import numpy as np\n",
    "x = np.array(12)\n",
    "print(x)\n",
    "print(x.ndim)"
   ]
  },
  {
   "cell_type": "markdown",
   "metadata": {},
   "source": [
    "Vectors (1D tensors)"
   ]
  },
  {
   "cell_type": "code",
   "execution_count": 21,
   "metadata": {},
   "outputs": [
    {
     "name": "stdout",
     "output_type": "stream",
     "text": [
      "[12  3  6 14]\n",
      "1\n"
     ]
    }
   ],
   "source": [
    "x = np.array([12, 3, 6, 14])\n",
    "print(x)\n",
    "print(x.ndim)"
   ]
  },
  {
   "cell_type": "markdown",
   "metadata": {},
   "source": [
    "Matrix (2D tensors)"
   ]
  },
  {
   "cell_type": "code",
   "execution_count": 22,
   "metadata": {},
   "outputs": [
    {
     "name": "stdout",
     "output_type": "stream",
     "text": [
      "2\n"
     ]
    }
   ],
   "source": [
    "x = np.array(\n",
    "    [\n",
    "        [5, 78, 2, 34, 0],\n",
    "        [6, 79, 3, 35, 1],\n",
    "        [7, 80, 4, 36, 2]\n",
    "    ])\n",
    "print(x.ndim)"
   ]
  },
  {
   "cell_type": "markdown",
   "metadata": {},
   "source": [
    "3D tensors"
   ]
  },
  {
   "cell_type": "code",
   "execution_count": 23,
   "metadata": {},
   "outputs": [
    {
     "name": "stdout",
     "output_type": "stream",
     "text": [
      "3\n"
     ]
    }
   ],
   "source": [
    "x = np.array(\n",
    "    [\n",
    "        [\n",
    "            [5, 78, 2, 34, 0],\n",
    "            [6, 79, 3, 35, 1],\n",
    "            [7, 80, 4, 36, 2]\n",
    "        ],\n",
    "        [\n",
    "            [5, 78, 2, 34, 0], \n",
    "            [6, 79, 3, 35, 1],\n",
    "            [7, 80, 4, 36, 2]\n",
    "        ],\n",
    "        [\n",
    "            [5, 78, 2, 34, 0],\n",
    "            [6, 79, 3, 35, 1],\n",
    "            [7, 80, 4, 36, 2]\n",
    "        ]\n",
    "    ])\n",
    "print(x.ndim)"
   ]
  },
  {
   "cell_type": "markdown",
   "metadata": {},
   "source": [
    "0차원 텐서는 숫자이고 1차원 텐서는 1차원 배열, 벡터이다. 2차원 텐서는 2차원 배열이고 n차원 텐서는 벡터의 n차원 배열이다. \n",
    "축의 갯수 또는 차원이라는 표현은 rank 라고 불리기도 한다. numpy 에서 ndim 으로 표시되는 값이다. \n",
    "형태는 각각의 차원의 크기를 나타낸 것으로 2D Tensor (2, 2), 3D Tensor (3, 4, 5) 등으로 표시된다."
   ]
  },
  {
   "cell_type": "code",
   "execution_count": 24,
   "metadata": {},
   "outputs": [
    {
     "name": "stdout",
     "output_type": "stream",
     "text": [
      "(90, 28, 28)\n"
     ]
    }
   ],
   "source": [
    "my_slice = train_images[10:100]\n",
    "print(my_slice.shape)"
   ]
  },
  {
   "cell_type": "markdown",
   "metadata": {},
   "source": [
    "slice 의 음수 값은 역방향 인덱스이다. 리스트의 마지막 지점을 0으로 생각하고 역방향으로의 위치이다. "
   ]
  },
  {
   "cell_type": "code",
   "execution_count": 25,
   "metadata": {},
   "outputs": [
    {
     "name": "stdout",
     "output_type": "stream",
     "text": [
      "(90, 28, 28)\n",
      "(60000, 14, 14)\n",
      "(60000, 14, 14)\n"
     ]
    }
   ],
   "source": [
    "my_slice = train_images[10:100, :, :]\n",
    "print(my_slice.shape)\n",
    "\n",
    "my_slice = train_images[:, 14:, 14:]\n",
    "print(my_slice.shape)\n",
    "\n",
    "my_slice = train_images[:, 7:-7, 7:-7]\n",
    "print(my_slice.shape)"
   ]
  },
  {
   "cell_type": "markdown",
   "metadata": {},
   "source": [
    "텐서의 첫번째 축은 항상 샘플 축이라고 불리고 그 크기는 샘플의 크기를 의미한다.\n",
    "Vector data 의 경우 2D 텐서이고 그 형태는 (samples, features) 형태이다. \n",
    "Timeseries data 또는 Sequence data 는 3D 텐서이고 (samples, timesteps, features) 형태이다.\n",
    "Images 는 4D 텐서이고 (samples, height, width, channel) 또는 (samples, channel, height, width) 형태를 갖는다. \n",
    "이미지의 한 픽셀에서 사용되는 색의 갯수를 channel 로 표현한다.\n",
    "ex) 첫번째 방식에서는 7번 이미지의 (5, 5) 픽셀에는 (r,g,b) 값이 무엇인가?\n",
    "ex) 두번째 방식에서는 7번 이미지의 r 채널의 (5,5) 픽셀의 값이 무엇인가?\n",
    "Video 는 5D 텐서이고 (sample, frames, height, width, channels) 또는 (sample, frames, channels, height, width) 형태를 갖는다."
   ]
  },
  {
   "cell_type": "markdown",
   "metadata": {},
   "source": [
    "element-wise 연산은 텐서와 텐서의 연산에 있어서 각 연산이 텐서의 요소에 영향을 주는 연산이다. \n",
    "예를 들어 형태가 동일한 두 텐서를 더한다는 의미는 두 텐서의 모든 요소를 더한 새로운 텐서를 만든다는 뜻이다. \n",
    "기본적으로 element-wise 연산은 두 텐서의 형태가 동일해야 하는데 일반적으로 동일하지 않는 경우가 많다.\n",
    "이때 Broadcasting 이라는 방식을 사용하여 축의 크기가 작은 텐서의 크기를 조절한다. \n",
    "\n",
    "먼저 축을 추가하고 연산 대상의 텐서에 맞게 축의 크기 만큼 복사하여 데이터를 만들어낸다."
   ]
  },
  {
   "cell_type": "code",
   "execution_count": 26,
   "metadata": {},
   "outputs": [],
   "source": [
    "def native_relu(x):\n",
    "    assert len(x.shape) == 2\n",
    "    \n",
    "    x = x.copy()\n",
    "    for i in range(x.shape[0]):\n",
    "        for j in range(x.shape[1]):\n",
    "            x[i,j] = max(x[i,j], 0)\n",
    "    return x"
   ]
  },
  {
   "cell_type": "code",
   "execution_count": 27,
   "metadata": {},
   "outputs": [],
   "source": [
    "def native_add(x, y):\n",
    "    assert len(x.shape) == 2\n",
    "    assert x.shape == y.shape\n",
    "    \n",
    "    x = x.copy()\n",
    "    for i in range(x.shape[0]):\n",
    "        for j in range(x.shape[1]):\n",
    "            x[i, j] += y[i, j]\n",
    "    return x"
   ]
  },
  {
   "cell_type": "markdown",
   "metadata": {},
   "source": []
  }
 ],
 "metadata": {
  "kernelspec": {
   "display_name": "py375",
   "language": "python",
   "name": "py375"
  },
  "language_info": {
   "codemirror_mode": {
    "name": "ipython",
    "version": 3
   },
   "file_extension": ".py",
   "mimetype": "text/x-python",
   "name": "python",
   "nbconvert_exporter": "python",
   "pygments_lexer": "ipython3",
   "version": "3.7.5"
  }
 },
 "nbformat": 4,
 "nbformat_minor": 4
}
