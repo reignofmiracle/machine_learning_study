{
 "cells": [
  {
   "cell_type": "code",
   "execution_count": 14,
   "metadata": {},
   "outputs": [],
   "source": [
    "import keras\n",
    "\n",
    "from keras.datasets import reuters\n",
    "(train_data, train_labels), (test_data, test_labels) = reuters.load_data(num_words=10000)\n",
    "\n",
    "import numpy as np\n",
    "\n",
    "def vectorize_sequences(sequences, dimension=10000):\n",
    "    results = np.zeros((len(sequences), dimension))\n",
    "    for i, sequence in enumerate(sequences):\n",
    "        results[i, sequence] = 1.\n",
    "    return results"
   ]
  },
  {
   "cell_type": "code",
   "execution_count": 15,
   "metadata": {},
   "outputs": [],
   "source": [
    "x_train = vectorize_sequences(train_data)\n",
    "x_test = vectorize_sequences(test_data)\n",
    "\n",
    "y_train = np.array(train_labels)\n",
    "y_test = np.array(test_labels)"
   ]
  },
  {
   "cell_type": "markdown",
   "metadata": {},
   "source": [
    "# sparse_categorical_crossentropy 손실 함수를 사용하기 위해서는 sparse_categorical_accuracy 메트릭을 설정해야 한다. "
   ]
  },
  {
   "cell_type": "code",
   "execution_count": 22,
   "metadata": {},
   "outputs": [],
   "source": [
    "from keras import models\n",
    "from keras import layers\n",
    "\n",
    "model = models.Sequential()\n",
    "model.add(layers.Dense(64, activation='relu', input_shape=(10000,)))\n",
    "model.add(layers.Dense(64, activation='relu'))\n",
    "model.add(layers.Dense(46, activation='softmax'))\n",
    "\n",
    "model.compile(optimizer='rmsprop', \n",
    "              loss='sparse_categorical_crossentropy', \n",
    "              metrics=['sparse_categorical_accuracy'])\n",
    "\n",
    "x_val = x_train[:1000]\n",
    "partial_x_train = x_train[1000:]\n",
    "\n",
    "y_val = y_train[:1000]\n",
    "partial_y_train = y_train[1000:]"
   ]
  },
  {
   "cell_type": "code",
   "execution_count": 23,
   "metadata": {},
   "outputs": [
    {
     "name": "stdout",
     "output_type": "stream",
     "text": [
      "Train on 7982 samples, validate on 1000 samples\n",
      "Epoch 1/20\n",
      "7982/7982 [==============================] - 1s 91us/step - loss: 2.4214 - sparse_categorical_accuracy: 0.5565 - val_loss: 1.6100 - val_sparse_categorical_accuracy: 0.6430\n",
      "Epoch 2/20\n",
      "7982/7982 [==============================] - 1s 79us/step - loss: 1.3292 - sparse_categorical_accuracy: 0.7171 - val_loss: 1.2751 - val_sparse_categorical_accuracy: 0.7130\n",
      "Epoch 3/20\n",
      "7982/7982 [==============================] - 1s 78us/step - loss: 1.0011 - sparse_categorical_accuracy: 0.7849 - val_loss: 1.1805 - val_sparse_categorical_accuracy: 0.7320\n",
      "Epoch 4/20\n",
      "7982/7982 [==============================] - 1s 78us/step - loss: 0.7902 - sparse_categorical_accuracy: 0.8307 - val_loss: 1.0397 - val_sparse_categorical_accuracy: 0.7670\n",
      "Epoch 5/20\n",
      "7982/7982 [==============================] - 1s 78us/step - loss: 0.6228 - sparse_categorical_accuracy: 0.8683 - val_loss: 0.9637 - val_sparse_categorical_accuracy: 0.8010\n",
      "Epoch 6/20\n",
      "7982/7982 [==============================] - 1s 79us/step - loss: 0.4962 - sparse_categorical_accuracy: 0.8968 - val_loss: 0.9266 - val_sparse_categorical_accuracy: 0.8070\n",
      "Epoch 7/20\n",
      "7982/7982 [==============================] - 1s 78us/step - loss: 0.3985 - sparse_categorical_accuracy: 0.9171 - val_loss: 0.9109 - val_sparse_categorical_accuracy: 0.8020\n",
      "Epoch 8/20\n",
      "7982/7982 [==============================] - 1s 78us/step - loss: 0.3204 - sparse_categorical_accuracy: 0.9323 - val_loss: 0.8921 - val_sparse_categorical_accuracy: 0.8100\n",
      "Epoch 9/20\n",
      "7982/7982 [==============================] - 1s 78us/step - loss: 0.2668 - sparse_categorical_accuracy: 0.9437 - val_loss: 0.8888 - val_sparse_categorical_accuracy: 0.8190\n",
      "Epoch 10/20\n",
      "7982/7982 [==============================] - 1s 79us/step - loss: 0.2309 - sparse_categorical_accuracy: 0.9450 - val_loss: 0.9600 - val_sparse_categorical_accuracy: 0.8010\n",
      "Epoch 11/20\n",
      "7982/7982 [==============================] - 1s 78us/step - loss: 0.1936 - sparse_categorical_accuracy: 0.9504 - val_loss: 0.9450 - val_sparse_categorical_accuracy: 0.8130\n",
      "Epoch 12/20\n",
      "7982/7982 [==============================] - 1s 78us/step - loss: 0.1740 - sparse_categorical_accuracy: 0.9538 - val_loss: 0.9790 - val_sparse_categorical_accuracy: 0.8080\n",
      "Epoch 13/20\n",
      "7982/7982 [==============================] - 1s 78us/step - loss: 0.1598 - sparse_categorical_accuracy: 0.9550 - val_loss: 0.9739 - val_sparse_categorical_accuracy: 0.8070\n",
      "Epoch 14/20\n",
      "7982/7982 [==============================] - 1s 78us/step - loss: 0.1477 - sparse_categorical_accuracy: 0.9539 - val_loss: 0.9581 - val_sparse_categorical_accuracy: 0.8130\n",
      "Epoch 15/20\n",
      "7982/7982 [==============================] - 1s 79us/step - loss: 0.1337 - sparse_categorical_accuracy: 0.9554 - val_loss: 1.0141 - val_sparse_categorical_accuracy: 0.8080\n",
      "Epoch 16/20\n",
      "7982/7982 [==============================] - 1s 78us/step - loss: 0.1246 - sparse_categorical_accuracy: 0.9557 - val_loss: 1.0293 - val_sparse_categorical_accuracy: 0.7960\n",
      "Epoch 17/20\n",
      "7982/7982 [==============================] - 1s 79us/step - loss: 0.1215 - sparse_categorical_accuracy: 0.9573 - val_loss: 1.0658 - val_sparse_categorical_accuracy: 0.7980\n",
      "Epoch 18/20\n",
      "7982/7982 [==============================] - 1s 79us/step - loss: 0.1173 - sparse_categorical_accuracy: 0.9570 - val_loss: 1.0555 - val_sparse_categorical_accuracy: 0.8020\n",
      "Epoch 19/20\n",
      "7982/7982 [==============================] - 1s 78us/step - loss: 0.1142 - sparse_categorical_accuracy: 0.9592 - val_loss: 1.0644 - val_sparse_categorical_accuracy: 0.8000\n",
      "Epoch 20/20\n",
      "7982/7982 [==============================] - 1s 79us/step - loss: 0.1091 - sparse_categorical_accuracy: 0.9589 - val_loss: 1.1051 - val_sparse_categorical_accuracy: 0.7980\n"
     ]
    }
   ],
   "source": [
    "history = model.fit(partial_x_train,\n",
    "          partial_y_train,\n",
    "          epochs=20,\n",
    "          batch_size=512,\n",
    "          validation_data=(x_val, y_val))"
   ]
  },
  {
   "cell_type": "code",
   "execution_count": 24,
   "metadata": {},
   "outputs": [
    {
     "data": {
      "image/png": "[encoded data removed]",
      "text/plain": [
       "<Figure size 432x288 with 1 Axes>"
      ]
     },
     "metadata": {
      "needs_background": "light"
     },
     "output_type": "display_data"
    }
   ],
   "source": [
    "import matplotlib.pyplot as plt\n",
    "\n",
    "loss = history.history['loss']\n",
    "val_loss = history.history['val_loss']\n",
    "\n",
    "epochs = range(1, len(loss) + 1)\n",
    "\n",
    "plt.plot(epochs, loss, 'bo', label='Training loss')\n",
    "plt.plot(epochs, val_loss, 'b', label='Validation loss')\n",
    "plt.title('Training and validation loss')\n",
    "plt.xlabel('Epochs')\n",
    "plt.ylabel('Loss')\n",
    "plt.legend()\n",
    "\n",
    "plt.show()"
   ]
  },
  {
   "cell_type": "code",
   "execution_count": 21,
   "metadata": {},
   "outputs": [
    {
     "data": {
      "image/png": "[encoded data removed]",
      "text/plain": [
       "<Figure size 432x288 with 1 Axes>"
      ]
     },
     "metadata": {
      "needs_background": "light"
     },
     "output_type": "display_data"
    }
   ],
   "source": [
    "plt.clf()   # 그래프를 초기화합니다\n",
    "\n",
    "acc = history.history['acc']\n",
    "val_acc = history.history['val_acc']\n",
    "\n",
    "plt.plot(epochs, acc, 'bo', label='Training acc')\n",
    "plt.plot(epochs, val_acc, 'b', label='Validation acc')\n",
    "plt.title('Training and validation accuracy')\n",
    "plt.xlabel('Epochs')\n",
    "plt.ylabel('Accuracy')\n",
    "plt.legend()\n",
    "\n",
    "plt.show()"
   ]
  }
 ],
 "metadata": {
  "kernelspec": {
   "display_name": "py375",
   "language": "python",
   "name": "py375"
  },
  "language_info": {
   "codemirror_mode": {
    "name": "ipython",
    "version": 3
   },
   "file_extension": ".py",
   "mimetype": "text/x-python",
   "name": "python",
   "nbconvert_exporter": "python",
   "pygments_lexer": "ipython3",
   "version": "3.7.5"
  }
 },
 "nbformat": 4,
 "nbformat_minor": 4
}
