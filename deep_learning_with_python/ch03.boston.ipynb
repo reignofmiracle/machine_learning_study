{
 "cells": [
  {
   "cell_type": "code",
   "execution_count": 1,
   "metadata": {},
   "outputs": [
    {
     "name": "stderr",
     "output_type": "stream",
     "text": [
      "Using TensorFlow backend.\n"
     ]
    }
   ],
   "source": [
    "from keras.datasets import boston_housing\n",
    "\n",
    "(train_data, train_targets), (test_data, test_targets) = boston_housing.load_data()"
   ]
  },
  {
   "cell_type": "code",
   "execution_count": 2,
   "metadata": {},
   "outputs": [
    {
     "name": "stdout",
     "output_type": "stream",
     "text": [
      "(404, 13)\n",
      "(102, 13)\n"
     ]
    }
   ],
   "source": [
    "print(train_data.shape)\n",
    "print(test_data.shape)"
   ]
  },
  {
   "cell_type": "markdown",
   "metadata": {},
   "source": [
    "여기서 볼 수 있듯이 404개의 훈련 샘플과 102개의 테스트 샘플이 있고 모두 13개의 수치 특성을 가지고 있습니다. 13개의 특성은 다음과 같습니다:\n",
    "\n",
    "1. Per capita crime rate.\n",
    "2. Proportion of residential land zoned for lots over 25,000 square feet.\n",
    "3. Proportion of non-retail business acres per town.\n",
    "4. Charles River dummy variable (= 1 if tract bounds river; 0 otherwise).\n",
    "5. Nitric oxides concentration (parts per 10 million).\n",
    "6. Average number of rooms per dwelling.\n",
    "7. Proportion of owner-occupied units built prior to 1940.\n",
    "8. Weighted distances to five Boston employment centres.\n",
    "9. Index of accessibility to radial highways.\n",
    "10. Full-value property-tax rate per $10,000.\n",
    "11. Pupil-teacher ratio by town.\n",
    "12. 1000 * (Bk - 0.63) ** 2 where Bk is the proportion of Black people by town.\n",
    "13. % lower status of the population.\n",
    "\n",
    "타깃은 주택의 중간 가격으로 천달러 단위입니다:"
   ]
  },
  {
   "cell_type": "code",
   "execution_count": 3,
   "metadata": {},
   "outputs": [
    {
     "name": "stdout",
     "output_type": "stream",
     "text": [
      "[15.2 42.3 50.  21.1 17.7 18.5 11.3 15.6 15.6 14.4 12.1 17.9 23.1 19.9\n",
      " 15.7  8.8 50.  22.5 24.1 27.5 10.9 30.8 32.9 24.  18.5 13.3 22.9 34.7\n",
      " 16.6 17.5 22.3 16.1 14.9 23.1 34.9 25.  13.9 13.1 20.4 20.  15.2 24.7\n",
      " 22.2 16.7 12.7 15.6 18.4 21.  30.1 15.1 18.7  9.6 31.5 24.8 19.1 22.\n",
      " 14.5 11.  32.  29.4 20.3 24.4 14.6 19.5 14.1 14.3 15.6 10.5  6.3 19.3\n",
      " 19.3 13.4 36.4 17.8 13.5 16.5  8.3 14.3 16.  13.4 28.6 43.5 20.2 22.\n",
      " 23.  20.7 12.5 48.5 14.6 13.4 23.7 50.  21.7 39.8 38.7 22.2 34.9 22.5\n",
      " 31.1 28.7 46.  41.7 21.  26.6 15.  24.4 13.3 21.2 11.7 21.7 19.4 50.\n",
      " 22.8 19.7 24.7 36.2 14.2 18.9 18.3 20.6 24.6 18.2  8.7 44.  10.4 13.2\n",
      " 21.2 37.  30.7 22.9 20.  19.3 31.7 32.  23.1 18.8 10.9 50.  19.6  5.\n",
      " 14.4 19.8 13.8 19.6 23.9 24.5 25.  19.9 17.2 24.6 13.5 26.6 21.4 11.9\n",
      " 22.6 19.6  8.5 23.7 23.1 22.4 20.5 23.6 18.4 35.2 23.1 27.9 20.6 23.7\n",
      " 28.  13.6 27.1 23.6 20.6 18.2 21.7 17.1  8.4 25.3 13.8 22.2 18.4 20.7\n",
      " 31.6 30.5 20.3  8.8 19.2 19.4 23.1 23.  14.8 48.8 22.6 33.4 21.1 13.6\n",
      " 32.2 13.1 23.4 18.9 23.9 11.8 23.3 22.8 19.6 16.7 13.4 22.2 20.4 21.8\n",
      " 26.4 14.9 24.1 23.8 12.3 29.1 21.  19.5 23.3 23.8 17.8 11.5 21.7 19.9\n",
      " 25.  33.4 28.5 21.4 24.3 27.5 33.1 16.2 23.3 48.3 22.9 22.8 13.1 12.7\n",
      " 22.6 15.  15.3 10.5 24.  18.5 21.7 19.5 33.2 23.2  5.  19.1 12.7 22.3\n",
      " 10.2 13.9 16.3 17.  20.1 29.9 17.2 37.3 45.4 17.8 23.2 29.  22.  18.\n",
      " 17.4 34.6 20.1 25.  15.6 24.8 28.2 21.2 21.4 23.8 31.  26.2 17.4 37.9\n",
      " 17.5 20.   8.3 23.9  8.4 13.8  7.2 11.7 17.1 21.6 50.  16.1 20.4 20.6\n",
      " 21.4 20.6 36.5  8.5 24.8 10.8 21.9 17.3 18.9 36.2 14.9 18.2 33.3 21.8\n",
      " 19.7 31.6 24.8 19.4 22.8  7.5 44.8 16.8 18.7 50.  50.  19.5 20.1 50.\n",
      " 17.2 20.8 19.3 41.3 20.4 20.5 13.8 16.5 23.9 20.6 31.5 23.3 16.8 14.\n",
      " 33.8 36.1 12.8 18.3 18.7 19.1 29.  30.1 50.  50.  22.  11.9 37.6 50.\n",
      " 22.7 20.8 23.5 27.9 50.  19.3 23.9 22.6 15.2 21.7 19.2 43.8 20.3 33.2\n",
      " 19.9 22.5 32.7 22.  17.1 19.  15.  16.1 25.1 23.7 28.7 37.2 22.6 16.4\n",
      " 25.  29.8 22.1 17.4 18.1 30.3 17.5 24.7 12.6 26.5 28.7 13.3 10.4 24.4\n",
      " 23.  20.  17.8  7.  11.8 24.4 13.8 19.4 25.2 19.4 19.4 29.1]\n"
     ]
    }
   ],
   "source": [
    "print(train_targets)"
   ]
  },
  {
   "cell_type": "code",
   "execution_count": 4,
   "metadata": {},
   "outputs": [],
   "source": [
    "mean = train_data.mean(axis=0)\n",
    "train_data -= mean\n",
    "std = train_data.std(axis=0)\n",
    "train_data /= std\n",
    "\n",
    "test_data -= mean\n",
    "test_data /= std"
   ]
  },
  {
   "cell_type": "code",
   "execution_count": 5,
   "metadata": {},
   "outputs": [],
   "source": [
    "from keras import models\n",
    "from keras import layers\n",
    "\n",
    "def build_model():\n",
    "  model = models.Sequential()\n",
    "  model.add(layers.Dense(64, activation='relu', input_shape=(train_data.shape[1],)))\n",
    "  model.add(layers.Dense(64, activation='relu'))\n",
    "  model.add(layers.Dense(1))\n",
    "  \n",
    "  model.compile(optimizer='rmsprop', loss='mse', metrics=['mae'])\n",
    "  return model"
   ]
  },
  {
   "cell_type": "markdown",
   "metadata": {},
   "source": [
    "이 네트워크의 마지막 층은 하나의 유닛을 가지고 있고 활성화 함수가 없습니다(선형 층이라고 합니다). 이것이 전형적인 스칼라 회귀(하나의 연속적인 값을 예측하는 회귀)를 위한 구성입니다. 활성화 함수를 적용하면 출력 값의 범위를 제한하게 됩니다. 예를 들어 마지막 층에 `sigmoid` 활성화 함수를 적용하면 네트워크가 0과 1 사이의 값을 예측하도록 학습될 것입니다. 여기서는 마지막 층이 순수한 선형이므로 네트워크가 어떤 범위의 값이라도 예측하도록 자유롭게 학습됩니다.\n",
    "\n",
    "이 모델은 `mse` 손실 함수를 사용하여 컴파일합니다. 이 함수는 평균 제곱 오차(mean squared error)의 약자로 예측과 타깃 사이 거리의 제곱입니다. 회귀 문제에서 널리 사용되는 손실 함수입니다.\n",
    "\n",
    "훈련하는 동안 모니터링을 위해 새로운 지표인 평균 절대 오차를 측정합니다. 이는 예측과 타깃 사이 거리의 절댓값입니다. 예를 들어 이 예제에서 MAE가 0.5이면 예측이 평균적으로 $500 정도 차이가 난다는 뜻입니다."
   ]
  },
  {
   "cell_type": "code",
   "execution_count": 6,
   "metadata": {},
   "outputs": [
    {
     "name": "stdout",
     "output_type": "stream",
     "text": [
      "처리중인 폴드 # 0\n",
      "101/101 [==============================] - 0s 257us/step\n",
      "처리중인 폴드 # 1\n",
      "101/101 [==============================] - 0s 257us/step\n",
      "처리중인 폴드 # 2\n",
      "101/101 [==============================] - 0s 238us/step\n",
      "처리중인 폴드 # 3\n",
      "101/101 [==============================] - 0s 257us/step\n"
     ]
    }
   ],
   "source": [
    "import numpy as np\n",
    "\n",
    "k = 4\n",
    "num_val_samples = len(train_data) // k\n",
    "num_epochs = 100\n",
    "all_scores = []\n",
    "\n",
    "for i in range(k):\n",
    "  print('처리중인 폴드 #', i)\n",
    "  \n",
    "  val_data = train_data[i * num_val_samples: (i + 1) * num_val_samples]\n",
    "  val_targets = train_targets[i * num_val_samples: (i + 1) * num_val_samples]\n",
    "  \n",
    "  partial_train_data = np.concatenate([train_data[:i*num_val_samples], train_data[(i + 1) * num_val_samples:]], axis=0)\n",
    "  partial_train_targets = np.concatenate([train_targets[:i * num_val_samples], train_targets[(i + 1) * num_val_samples:]], axis=0)\n",
    "  \n",
    "  model = build_model()\n",
    "  model.fit(partial_train_data, partial_train_targets, epochs=num_epochs, batch_size=1, verbose=0)\n",
    "  \n",
    "  val_mse, val_mae = model.evaluate(val_data, val_targets)\n",
    "  all_scores.append(val_mae)"
   ]
  },
  {
   "cell_type": "code",
   "execution_count": 7,
   "metadata": {},
   "outputs": [
    {
     "name": "stdout",
     "output_type": "stream",
     "text": [
      "[2.270967960357666, 2.6974740028381348, 2.7548470497131348, 2.530268907546997]\n"
     ]
    }
   ],
   "source": [
    "print(all_scores)"
   ]
  },
  {
   "cell_type": "code",
   "execution_count": 8,
   "metadata": {},
   "outputs": [
    {
     "data": {
      "text/plain": [
       "2.563389480113983"
      ]
     },
     "execution_count": 8,
     "metadata": {},
     "output_type": "execute_result"
    }
   ],
   "source": [
    "np.mean(all_scores)"
   ]
  },
  {
   "cell_type": "code",
   "execution_count": 9,
   "metadata": {},
   "outputs": [],
   "source": [
    "from keras import backend as K\n",
    "\n",
    "K.clear_session()"
   ]
  },
  {
   "cell_type": "code",
   "execution_count": 11,
   "metadata": {},
   "outputs": [
    {
     "name": "stdout",
     "output_type": "stream",
     "text": [
      "처리중인 폴드 # 0\n",
      "처리중인 폴드 # 1\n",
      "처리중인 폴드 # 2\n",
      "처리중인 폴드 # 3\n"
     ]
    }
   ],
   "source": [
    "num_epochs = 500\n",
    "all_histories = []\n",
    "all_mae_histories = []\n",
    "\n",
    "for i in range(k):\n",
    "  print('처리중인 폴드 #', i)\n",
    "  \n",
    "  val_data = train_data[i * num_val_samples: (i + 1) * num_val_samples]\n",
    "  val_targets = train_targets[i * num_val_samples: (i + 1) * num_val_samples]\n",
    "  \n",
    "  partial_train_data = np.concatenate([train_data[:i*num_val_samples], train_data[(i + 1) * num_val_samples:]], axis=0)\n",
    "  partial_train_targets = np.concatenate([train_targets[:i * num_val_samples], train_targets[(i + 1) * num_val_samples:]], axis=0)\n",
    "  \n",
    "  model = build_model()\n",
    "  history = model.fit(partial_train_data, partial_train_targets, epochs=num_epochs, batch_size=1, verbose=0)\n",
    "  all_histories.append(history)  "
   ]
  },
  {
   "cell_type": "code",
   "execution_count": 15,
   "metadata": {},
   "outputs": [
    {
     "name": "stdout",
     "output_type": "stream",
     "text": [
      "[10.610287, 3.6188223, 2.991727, 2.7571115, 2.6225646, 2.5442994, 2.494766, 2.302675, 2.3253129, 2.2964277, 2.2314792, 2.2018406, 2.193116, 2.2153301, 2.1248708, 2.0854435, 2.101798, 2.0268981, 1.9993306, 2.0326335, 1.9796373, 2.0331233, 2.0190737, 1.9942305, 1.933069, 1.9216338, 1.8996167, 1.9412842, 1.9157119, 1.8509258, 1.8373028, 1.818669, 1.8655334, 1.8035218, 1.7559876, 1.8102937, 1.8168384, 1.7509854, 1.808121, 1.7751558, 1.6877983, 1.7778571, 1.7828081, 1.6497761, 1.6895725, 1.7114936, 1.7454151, 1.6869093, 1.7082365, 1.6851317, 1.6287557, 1.6287695, 1.5575689, 1.5955317, 1.6183202, 1.5547814, 1.6167036, 1.5692239, 1.6063169, 1.5704781, 1.5822767, 1.5748807, 1.5802784, 1.5661829, 1.5218263, 1.5229337, 1.517059, 1.5538781, 1.5476843, 1.5320821, 1.4716806, 1.5096467, 1.4694263, 1.471567, 1.40169, 1.4886129, 1.4721599, 1.441077, 1.4073977, 1.4634994, 1.5101758, 1.472938, 1.3786689, 1.383953, 1.454169, 1.4207247, 1.4418745, 1.4522369, 1.4193774, 1.3856404, 1.3912052, 1.437999, 1.3871262, 1.3403113, 1.4665525, 1.3692423, 1.3583477, 1.3249714, 1.368386, 1.2946264, 1.2837114, 1.4042842, 1.3500384, 1.3209873, 1.3741854, 1.3667693, 1.3837584, 1.3250749, 1.3687527, 1.3364103, 1.3575395, 1.3229262, 1.358338, 1.2985995, 1.3415668, 1.3188226, 1.3146026, 1.360243, 1.3261418, 1.328911, 1.2597352, 1.2841196, 1.3160962, 1.3120344, 1.317339, 1.2534283, 1.3051186, 1.2928262, 1.2714123, 1.2234876, 1.2670126, 1.1826351, 1.2476472, 1.2438884, 1.2693242, 1.2940633, 1.2621669, 1.2323394, 1.2351828, 1.2192141, 1.2856282, 1.1765729, 1.138508, 1.1984386, 1.1805058, 1.1453384, 1.1882938, 1.1833135, 1.1893665, 1.2536551, 1.2188964, 1.1801796, 1.2238805, 1.1485062, 1.1691339, 1.1635886, 1.2044233, 1.166614, 1.208633, 1.1767925, 1.1264894, 1.2129709, 1.1765194, 1.1569158, 1.1194936, 1.1525433, 1.118889, 1.1263149, 1.116682, 1.108656, 1.1368077, 1.0768167, 1.0657074, 1.1383696, 1.0847307, 1.1195102, 1.1237952, 1.098901, 1.0823393, 1.0831022, 1.0947417, 1.0848253, 1.0459032, 1.074186, 0.99466056, 1.1119478, 1.0667896, 1.0893679, 1.0940791, 1.0539634, 1.1163647, 0.9965105, 1.0672421, 1.0690298, 1.0719599, 1.0116297, 1.011496, 1.0664793, 0.983734, 1.0183166, 1.0519586, 1.0560704, 0.996902, 1.0951393, 0.9985746, 1.0400599, 1.0000926, 1.0482389, 1.0186284, 1.0166285, 1.0233696, 1.0249131, 0.99839395, 1.0168525, 0.9580388, 0.98781925, 1.0085349, 1.0079061, 1.0189445, 0.9448089, 0.9451709, 1.0178633, 0.9865614, 0.95990163, 1.0183927, 0.95338315, 0.9606557, 1.0466292, 0.9667227, 0.9293194, 1.0282481, 0.88276285, 0.97966826, 0.95534754, 0.969747, 1.029089, 0.96634185, 0.91583395, 0.947934, 0.9210755, 0.96105826, 0.9198988, 0.91487914, 0.9565941, 0.9466999, 0.9705796, 0.95808256, 0.9693946, 0.89216465, 0.9388896, 0.90489465, 0.93220586, 0.9370389, 0.9077125, 0.8933332, 0.88713926, 0.8505946, 0.9140635, 0.93942827, 0.91278416, 0.89843154, 0.8754862, 0.9402642, 0.8508615, 0.91158444, 0.8892798, 0.8894054, 0.90074533, 0.8504332, 0.9364145, 0.89298743, 0.8831618, 0.8961528, 0.8270141, 0.8922357, 0.87675846, 0.90301824, 0.8824085, 0.897152, 0.8272176, 0.9069011, 0.8570925, 0.89345, 0.82146764, 0.89498043, 0.8519698, 0.84776354, 0.83694446, 0.83947444, 0.86942905, 0.8206263, 0.8385536, 0.79938364, 0.87535113, 0.89304316, 0.78165245, 0.83264, 0.8725849, 0.82573503, 0.82830566, 0.82207584, 0.82569677, 0.8423931, 0.85948294, 0.84746456, 0.79239243, 0.826758, 0.82017785, 0.8401885, 0.81492645, 0.84222144, 0.82525283, 0.8190902, 0.81192946, 0.81825155, 0.7714643, 0.8448998, 0.8526738, 0.82303745, 0.7834644, 0.7991604, 0.80344236, 0.767442, 0.76870006, 0.83373976, 0.8245213, 0.8123258, 0.81919086, 0.8534696, 0.8179289, 0.7796096, 0.8525007, 0.7845204, 0.8116772, 0.7764821, 0.82106394, 0.81217194, 0.77445316, 0.7837897, 0.8387994, 0.83735216, 0.77908134, 0.7883787, 0.8081535, 0.7781426, 0.77126676, 0.7922709, 0.7886792, 0.78603804, 0.7806335, 0.81357515, 0.7953704, 0.7646243, 0.7310346, 0.8142606, 0.80143344, 0.7647697, 0.78780484, 0.74558145, 0.7411715, 0.7793981, 0.7388354, 0.7556194, 0.71558815, 0.7932788, 0.7337461, 0.73765785, 0.8093517, 0.7451425, 0.7485834, 0.73363745, 0.78869355, 0.76502633, 0.78177845, 0.78068495, 0.73468477, 0.70900786, 0.74422914, 0.71038145, 0.7821823, 0.7125906, 0.75279087, 0.7318891, 0.7949659, 0.69053864, 0.69343597, 0.7315393, 0.7569334, 0.70124274, 0.73234683, 0.76576835, 0.7642395, 0.73525333, 0.71274334, 0.7604709, 0.7586129, 0.7022483, 0.7125152, 0.71164256, 0.73158646, 0.6903454, 0.70913947, 0.75418836, 0.7527726, 0.6969082, 0.73930895, 0.69714636, 0.73221177, 0.69124407, 0.67870194, 0.76039803, 0.7155371, 0.70091295, 0.71905124, 0.68411255, 0.7246322, 0.7506103, 0.70693415, 0.7459932, 0.69944936, 0.7108367, 0.7028505, 0.7389667, 0.68563443, 0.72638434, 0.7082733, 0.707454, 0.71903485, 0.71620375, 0.7179152, 0.6823361, 0.70163006, 0.6996039, 0.7359409, 0.68728346, 0.7345045, 0.6859172, 0.691857, 0.66069317, 0.749462, 0.7242998, 0.69729304, 0.6957809, 0.6366874, 0.71478117, 0.73960865, 0.6526363, 0.72182065, 0.68663245, 0.68018013, 0.686709, 0.71368825, 0.67292076, 0.65987027, 0.7103085, 0.7061269, 0.67840135, 0.7102544, 0.6710167, 0.68079334, 0.74532574, 0.6140001, 0.7026467, 0.69569004, 0.67578495, 0.7018091, 0.7042871, 0.64226764, 0.66267806, 0.6652879, 0.69042367, 0.62987435, 0.67629576, 0.6674998, 0.6985862, 0.6543216, 0.6718484, 0.6331339, 0.65777767, 0.6466386, 0.6799519, 0.68085945, 0.67354053, 0.676933, 0.6690603, 0.62553996, 0.66467136, 0.69998443, 0.67122734, 0.64440006, 0.7009216, 0.6589858, 0.7051462, 0.6853332, 0.6979946, 0.6546797, 0.6738797, 0.6419562, 0.6691736, 0.65708303]\n"
     ]
    }
   ],
   "source": [
    "print(all_histories[0].history['mae'])"
   ]
  },
  {
   "cell_type": "code",
   "execution_count": 16,
   "metadata": {},
   "outputs": [],
   "source": [
    "average_mae_history = [np.mean([history.history['mae'][i] for history in all_histories]) for i in range(num_epochs)]"
   ]
  },
  {
   "cell_type": "code",
   "execution_count": 17,
   "metadata": {},
   "outputs": [
    {
     "data": {
      "image/png": "[encoded data removed]",
      "text/plain": [
       "<Figure size 432x288 with 1 Axes>"
      ]
     },
     "metadata": {
      "needs_background": "light"
     },
     "output_type": "display_data"
    }
   ],
   "source": [
    "import matplotlib.pyplot as plt\n",
    "plt.plot(range(1, len(average_mae_history) + 1), average_mae_history)\n",
    "plt.xlabel('Epochs')\n",
    "plt.ylabel('Validation MAE')\n",
    "plt.show()"
   ]
  },
  {
   "cell_type": "code",
   "execution_count": 18,
   "metadata": {},
   "outputs": [],
   "source": [
    "def smooth_curve(points, factor=0.9):\n",
    "  smoothed_points = []\n",
    "  for point in points:\n",
    "    if smoothed_points:\n",
    "      previous = smoothed_points[-1]\n",
    "      smoothed_points.append(previous * factor + point * (1 - factor))\n",
    "    else:\n",
    "      smoothed_points.append(point)"
   ]
  },
  {
   "cell_type": "markdown",
   "metadata": {},
   "source": [
    "* 곡선의 다른 부분과 스케일이 많이 다른 첫 10개 데이터 포인트를 제외시킵니다.\n",
    "* 부드러운 곡선을 얻기 위해 각 포인트를 이전 포인트의 지수 이동 평균으로 대체합니다."
   ]
  },
  {
   "cell_type": "code",
   "execution_count": 19,
   "metadata": {},
   "outputs": [
    {
     "ename": "TypeError",
     "evalue": "object of type 'NoneType' has no len()",
     "output_type": "error",
     "traceback": [
      "\u001b[1;31m---------------------------------------------------------------------------\u001b[0m",
      "\u001b[1;31mTypeError\u001b[0m                                 Traceback (most recent call last)",
      "\u001b[1;32m<ipython-input-19-0ce7162338db>\u001b[0m in \u001b[0;36m<module>\u001b[1;34m\u001b[0m\n\u001b[0;32m      1\u001b[0m \u001b[0msmooth_mae_history\u001b[0m \u001b[1;33m=\u001b[0m \u001b[0msmooth_curve\u001b[0m\u001b[1;33m(\u001b[0m\u001b[0maverage_mae_history\u001b[0m\u001b[1;33m[\u001b[0m\u001b[1;36m10\u001b[0m\u001b[1;33m:\u001b[0m\u001b[1;33m]\u001b[0m\u001b[1;33m)\u001b[0m\u001b[1;33m\u001b[0m\u001b[1;33m\u001b[0m\u001b[0m\n\u001b[0;32m      2\u001b[0m \u001b[1;33m\u001b[0m\u001b[0m\n\u001b[1;32m----> 3\u001b[1;33m \u001b[0mplt\u001b[0m\u001b[1;33m.\u001b[0m\u001b[0mplot\u001b[0m\u001b[1;33m(\u001b[0m\u001b[0mrange\u001b[0m\u001b[1;33m(\u001b[0m\u001b[1;36m1\u001b[0m\u001b[1;33m,\u001b[0m \u001b[0mlen\u001b[0m\u001b[1;33m(\u001b[0m\u001b[0msmooth_mae_history\u001b[0m\u001b[1;33m)\u001b[0m \u001b[1;33m+\u001b[0m \u001b[1;36m1\u001b[0m\u001b[1;33m)\u001b[0m\u001b[1;33m,\u001b[0m \u001b[0msmooth_mae_history\u001b[0m\u001b[1;33m)\u001b[0m\u001b[1;33m\u001b[0m\u001b[1;33m\u001b[0m\u001b[0m\n\u001b[0m\u001b[0;32m      4\u001b[0m \u001b[0mplt\u001b[0m\u001b[1;33m.\u001b[0m\u001b[0mxlabel\u001b[0m\u001b[1;33m(\u001b[0m\u001b[1;34m'Epochs'\u001b[0m\u001b[1;33m)\u001b[0m\u001b[1;33m\u001b[0m\u001b[1;33m\u001b[0m\u001b[0m\n\u001b[0;32m      5\u001b[0m \u001b[0mplt\u001b[0m\u001b[1;33m.\u001b[0m\u001b[0mylabel\u001b[0m\u001b[1;33m(\u001b[0m\u001b[1;34m'Validation MAE'\u001b[0m\u001b[1;33m)\u001b[0m\u001b[1;33m\u001b[0m\u001b[1;33m\u001b[0m\u001b[0m\n",
      "\u001b[1;31mTypeError\u001b[0m: object of type 'NoneType' has no len()"
     ]
    }
   ],
   "source": [
    "smooth_mae_history = smooth_curve(average_mae_history[10:])\n",
    "\n",
    "plt.plot(range(1, len(smooth_mae_history) + 1), smooth_mae_history)\n",
    "plt.xlabel('Epochs')\n",
    "plt.ylabel('Validation MAE')\n",
    "plt.show()"
   ]
  }
 ],
 "metadata": {
  "kernelspec": {
   "display_name": "py375",
   "language": "python",
   "name": "py375"
  },
  "language_info": {
   "codemirror_mode": {
    "name": "ipython",
    "version": 3
   },
   "file_extension": ".py",
   "mimetype": "text/x-python",
   "name": "python",
   "nbconvert_exporter": "python",
   "pygments_lexer": "ipython3",
   "version": "3.7.5"
  }
 },
 "nbformat": 4,
 "nbformat_minor": 4
}
